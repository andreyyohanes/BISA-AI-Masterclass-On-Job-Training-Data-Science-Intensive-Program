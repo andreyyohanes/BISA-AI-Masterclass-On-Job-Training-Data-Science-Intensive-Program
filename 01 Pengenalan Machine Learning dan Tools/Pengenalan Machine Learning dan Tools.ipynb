{
 "cells": [
  {
   "cell_type": "code",
   "execution_count": null,
   "id": "5ab66e5f-19b1-49fd-b8ab-4c12f33096c4",
   "metadata": {},
   "outputs": [],
   "source": [
    "from tweepy.streaming import StreamListener\n",
    "from tweepy import OAuthHandler\n",
    "from tweepy import Stream\n",
    "\n",
    "access_token = \"143766104-HULGWwvoPp07v4L3SP7jLrUtxdf5UcwQ1UeVEfsX\"\n",
    "access_token_secret = \"xJVOrvFeS8UPdGda11ZHu6OEeqJ6OBtsfBu5kiKO0abAx\"\n",
    "consumer_key = \"IkGYQNo5Q45Kllkr360FWkhBB\"\n",
    "consumer_secret = \"2bskN2Cjjjdd0smvvkyl0cigVRYdkvTPM7uPW0mZguUwg0k1rO\"\n",
    "\n",
    "class StdOutListener(StreamListener):    \n",
    "    def on_data(self, data):\n",
    "        print(data)\n",
    "        return True\n",
    "    def on_error(self, status):\n",
    "        print(status)\n",
    "        \n",
    "if __name__ == '__main__':\n",
    "    l = StdOutListener()\n",
    "    auth = OAuthHandler(consumer_key, consumer_secret)\n",
    "    auth.set_access_token(access_token, access_token_secret)\n",
    "    stream = Stream(auth, l)\n",
    "    hasil = stream.filter(track=[\"deep learning\",\"machine learning\"])"
   ]
  }
 ],
 "metadata": {
  "kernelspec": {
   "display_name": "Python 3 (ipykernel)",
   "language": "python",
   "name": "python3"
  },
  "language_info": {
   "codemirror_mode": {
    "name": "ipython",
    "version": 3
   },
   "file_extension": ".py",
   "mimetype": "text/x-python",
   "name": "python",
   "nbconvert_exporter": "python",
   "pygments_lexer": "ipython3",
   "version": "3.10.0"
  }
 },
 "nbformat": 4,
 "nbformat_minor": 5
}
