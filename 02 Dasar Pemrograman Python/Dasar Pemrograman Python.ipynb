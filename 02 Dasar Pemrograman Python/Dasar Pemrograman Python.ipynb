{
 "cells": [
  {
   "cell_type": "markdown",
   "id": "c3d0397c-b441-4952-bc7d-5b48b9c9f19f",
   "metadata": {},
   "source": [
    "### Konversi Nilai Ujian ke Huruf Mutu\n",
    "***"
   ]
  },
  {
   "cell_type": "code",
   "execution_count": 1,
   "id": "1da1b01a-3137-48e8-ada0-a2efa1d2ba7c",
   "metadata": {},
   "outputs": [],
   "source": [
    "def huruf_mutu(nilai):\n",
    "    if nilai >= 85:\n",
    "        huruf_mutu = \"A\"\n",
    "    elif nilai >= 70:\n",
    "        huruf_mutu = \"B\"\n",
    "    elif nilai >= 60:\n",
    "        huruf_mutu = \"C\"\n",
    "    else:\n",
    "        huruf_mutu = \"D\"\n",
    "    return huruf_mutu"
   ]
  },
  {
   "cell_type": "markdown",
   "id": "56a996d3-d234-47be-beac-01f25460f8f4",
   "metadata": {},
   "source": [
    "<br>"
   ]
  },
  {
   "cell_type": "markdown",
   "id": "b6cf6b3c-e72a-41b7-b8a0-30c54bd654bc",
   "metadata": {},
   "source": [
    "### Faktor Bilangan\n",
    "***"
   ]
  },
  {
   "cell_type": "code",
   "execution_count": 1,
   "id": "081f684a-1021-4769-8106-2a8535774015",
   "metadata": {},
   "outputs": [],
   "source": [
    "def faktor(bilangan):     \n",
    "    return [i for i in range(1, bilangan+1) if bilangan % i == 0]"
   ]
  }
 ],
 "metadata": {
  "kernelspec": {
   "display_name": "Python 3 (ipykernel)",
   "language": "python",
   "name": "python3"
  },
  "language_info": {
   "codemirror_mode": {
    "name": "ipython",
    "version": 3
   },
   "file_extension": ".py",
   "mimetype": "text/x-python",
   "name": "python",
   "nbconvert_exporter": "python",
   "pygments_lexer": "ipython3",
   "version": "3.10.0"
  }
 },
 "nbformat": 4,
 "nbformat_minor": 5
}
